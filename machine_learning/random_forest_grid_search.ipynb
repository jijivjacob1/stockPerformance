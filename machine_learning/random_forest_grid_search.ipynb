{
 "cells": [
  {
   "cell_type": "markdown",
   "metadata": {
    "collapsed": true
   },
   "source": [
    "# Stock Prediction with SVM "
   ]
  },
  {
   "cell_type": "markdown",
   "metadata": {},
   "source": [
    "### Read company financials from sqlite database into Pandas Dataframe"
   ]
  },
  {
   "cell_type": "code",
   "execution_count": 1,
   "metadata": {
    "collapsed": true
   },
   "outputs": [],
   "source": [
    "# Import Python Pandas, Numpy and SQL toolkit\n",
    "import pandas as pd\n",
    "import sqlalchemy\n",
    "from sqlalchemy.orm import Session\n",
    "from sqlalchemy import create_engine\n",
    "import numpy as np"
   ]
  },
  {
   "cell_type": "code",
   "execution_count": 2,
   "metadata": {
    "collapsed": true,
    "nbgrader": {
     "grade": false,
     "grade_id": "cell-70673a582be08b2b",
     "locked": false,
     "schema_version": 1,
     "solution": true
    }
   },
   "outputs": [],
   "source": [
    "# Create engine using the `stock_data.sqlite` database file\n",
    "engine = create_engine(\"sqlite:///stock_data.sqlite\")"
   ]
  },
  {
   "cell_type": "code",
   "execution_count": 3,
   "metadata": {},
   "outputs": [
    {
     "data": {
      "text/plain": [
       "(18732, 44)"
      ]
     },
     "execution_count": 3,
     "metadata": {},
     "output_type": "execute_result"
    }
   ],
   "source": [
    "#Read all the data from the cmpny_financials table onto a data frame. Check size of the dataframe with shape()\n",
    "sql = \"select * from cmpny_financials\"\n",
    "company_data = pd.read_sql(sql, engine)\n",
    "company_data.shape"
   ]
  },
  {
   "cell_type": "code",
   "execution_count": 4,
   "metadata": {},
   "outputs": [
    {
     "data": {
      "text/html": [
       "<div>\n",
       "<style>\n",
       "    .dataframe thead tr:only-child th {\n",
       "        text-align: right;\n",
       "    }\n",
       "\n",
       "    .dataframe thead th {\n",
       "        text-align: left;\n",
       "    }\n",
       "\n",
       "    .dataframe tbody tr th {\n",
       "        vertical-align: top;\n",
       "    }\n",
       "</style>\n",
       "<table border=\"1\" class=\"dataframe\">\n",
       "  <thead>\n",
       "    <tr style=\"text-align: right;\">\n",
       "      <th></th>\n",
       "      <th>id_cmpny_financials</th>\n",
       "      <th>id_cmpny</th>\n",
       "      <th>ticker</th>\n",
       "      <th>datekey</th>\n",
       "      <th>de</th>\n",
       "      <th>pe1</th>\n",
       "      <th>ps1</th>\n",
       "      <th>pb</th>\n",
       "      <th>netmargin</th>\n",
       "      <th>marketcap</th>\n",
       "      <th>...</th>\n",
       "      <th>payoutratio</th>\n",
       "      <th>tangibles</th>\n",
       "      <th>tbvps</th>\n",
       "      <th>workingcapital</th>\n",
       "      <th>price</th>\n",
       "      <th>sp_price</th>\n",
       "      <th>price_change</th>\n",
       "      <th>sp_price_change</th>\n",
       "      <th>diff</th>\n",
       "      <th>status</th>\n",
       "    </tr>\n",
       "  </thead>\n",
       "  <tbody>\n",
       "    <tr>\n",
       "      <th>0</th>\n",
       "      <td>1</td>\n",
       "      <td>1.0</td>\n",
       "      <td>MMM</td>\n",
       "      <td>2008-05-02</td>\n",
       "      <td>1.153</td>\n",
       "      <td>15.048</td>\n",
       "      <td>2.221</td>\n",
       "      <td>4.449</td>\n",
       "      <td>0.153</td>\n",
       "      <td>5.532178e+10</td>\n",
       "      <td>...</td>\n",
       "      <td>0.357</td>\n",
       "      <td>2.121700e+10</td>\n",
       "      <td>30.031</td>\n",
       "      <td>4.625000e+09</td>\n",
       "      <td>78.55</td>\n",
       "      <td>1413.900024</td>\n",
       "      <td>0.000000</td>\n",
       "      <td>0.000000</td>\n",
       "      <td>0.000000</td>\n",
       "      <td>underperform</td>\n",
       "    </tr>\n",
       "    <tr>\n",
       "      <th>1</th>\n",
       "      <td>2</td>\n",
       "      <td>1.0</td>\n",
       "      <td>MMM</td>\n",
       "      <td>2008-08-01</td>\n",
       "      <td>1.183</td>\n",
       "      <td>13.261</td>\n",
       "      <td>1.925</td>\n",
       "      <td>3.912</td>\n",
       "      <td>0.140</td>\n",
       "      <td>4.903418e+10</td>\n",
       "      <td>...</td>\n",
       "      <td>0.370</td>\n",
       "      <td>2.059000e+10</td>\n",
       "      <td>29.326</td>\n",
       "      <td>3.552000e+09</td>\n",
       "      <td>70.15</td>\n",
       "      <td>1260.310059</td>\n",
       "      <td>-10.693826</td>\n",
       "      <td>-10.862859</td>\n",
       "      <td>0.169033</td>\n",
       "      <td>outperform</td>\n",
       "    </tr>\n",
       "    <tr>\n",
       "      <th>2</th>\n",
       "      <td>3</td>\n",
       "      <td>1.0</td>\n",
       "      <td>MMM</td>\n",
       "      <td>2008-10-31</td>\n",
       "      <td>1.263</td>\n",
       "      <td>11.952</td>\n",
       "      <td>1.722</td>\n",
       "      <td>3.652</td>\n",
       "      <td>0.151</td>\n",
       "      <td>4.455701e+10</td>\n",
       "      <td>...</td>\n",
       "      <td>0.350</td>\n",
       "      <td>2.077300e+10</td>\n",
       "      <td>29.868</td>\n",
       "      <td>3.780000e+09</td>\n",
       "      <td>64.30</td>\n",
       "      <td>968.750000</td>\n",
       "      <td>-18.141311</td>\n",
       "      <td>-31.483840</td>\n",
       "      <td>13.342529</td>\n",
       "      <td>outperform</td>\n",
       "    </tr>\n",
       "    <tr>\n",
       "      <th>3</th>\n",
       "      <td>4</td>\n",
       "      <td>1.0</td>\n",
       "      <td>MMM</td>\n",
       "      <td>2009-02-17</td>\n",
       "      <td>1.586</td>\n",
       "      <td>9.580</td>\n",
       "      <td>1.312</td>\n",
       "      <td>3.330</td>\n",
       "      <td>0.097</td>\n",
       "      <td>3.289960e+10</td>\n",
       "      <td>...</td>\n",
       "      <td>0.641</td>\n",
       "      <td>1.839600e+10</td>\n",
       "      <td>26.549</td>\n",
       "      <td>3.759000e+09</td>\n",
       "      <td>47.42</td>\n",
       "      <td>789.169983</td>\n",
       "      <td>-39.630808</td>\n",
       "      <td>-44.184881</td>\n",
       "      <td>4.554072</td>\n",
       "      <td>outperform</td>\n",
       "    </tr>\n",
       "    <tr>\n",
       "      <th>4</th>\n",
       "      <td>5</td>\n",
       "      <td>1.0</td>\n",
       "      <td>MMM</td>\n",
       "      <td>2009-05-01</td>\n",
       "      <td>1.458</td>\n",
       "      <td>13.429</td>\n",
       "      <td>1.680</td>\n",
       "      <td>4.128</td>\n",
       "      <td>0.102</td>\n",
       "      <td>4.019094e+10</td>\n",
       "      <td>...</td>\n",
       "      <td>0.680</td>\n",
       "      <td>1.740300e+10</td>\n",
       "      <td>25.094</td>\n",
       "      <td>3.919000e+09</td>\n",
       "      <td>57.88</td>\n",
       "      <td>877.520020</td>\n",
       "      <td>-26.314449</td>\n",
       "      <td>-37.936204</td>\n",
       "      <td>11.621755</td>\n",
       "      <td>outperform</td>\n",
       "    </tr>\n",
       "  </tbody>\n",
       "</table>\n",
       "<p>5 rows × 44 columns</p>\n",
       "</div>"
      ],
      "text/plain": [
       "   id_cmpny_financials  id_cmpny ticker     datekey     de     pe1    ps1  \\\n",
       "0                    1       1.0    MMM  2008-05-02  1.153  15.048  2.221   \n",
       "1                    2       1.0    MMM  2008-08-01  1.183  13.261  1.925   \n",
       "2                    3       1.0    MMM  2008-10-31  1.263  11.952  1.722   \n",
       "3                    4       1.0    MMM  2009-02-17  1.586   9.580  1.312   \n",
       "4                    5       1.0    MMM  2009-05-01  1.458  13.429  1.680   \n",
       "\n",
       "      pb  netmargin     marketcap      ...       payoutratio     tangibles  \\\n",
       "0  4.449      0.153  5.532178e+10      ...             0.357  2.121700e+10   \n",
       "1  3.912      0.140  4.903418e+10      ...             0.370  2.059000e+10   \n",
       "2  3.652      0.151  4.455701e+10      ...             0.350  2.077300e+10   \n",
       "3  3.330      0.097  3.289960e+10      ...             0.641  1.839600e+10   \n",
       "4  4.128      0.102  4.019094e+10      ...             0.680  1.740300e+10   \n",
       "\n",
       "    tbvps  workingcapital  price     sp_price  price_change  sp_price_change  \\\n",
       "0  30.031    4.625000e+09  78.55  1413.900024      0.000000         0.000000   \n",
       "1  29.326    3.552000e+09  70.15  1260.310059    -10.693826       -10.862859   \n",
       "2  29.868    3.780000e+09  64.30   968.750000    -18.141311       -31.483840   \n",
       "3  26.549    3.759000e+09  47.42   789.169983    -39.630808       -44.184881   \n",
       "4  25.094    3.919000e+09  57.88   877.520020    -26.314449       -37.936204   \n",
       "\n",
       "        diff        status  \n",
       "0   0.000000  underperform  \n",
       "1   0.169033    outperform  \n",
       "2  13.342529    outperform  \n",
       "3   4.554072    outperform  \n",
       "4  11.621755    outperform  \n",
       "\n",
       "[5 rows x 44 columns]"
      ]
     },
     "execution_count": 4,
     "metadata": {},
     "output_type": "execute_result"
    }
   ],
   "source": [
    "company_data.head()"
   ]
  },
  {
   "cell_type": "code",
   "execution_count": 5,
   "metadata": {
    "collapsed": true
   },
   "outputs": [],
   "source": [
    "#Delete index columns and columns with no data\n",
    "del company_data[\"id_cmpny_financials\"]\n",
    "del company_data[\"id_cmpny\"]"
   ]
  },
  {
   "cell_type": "code",
   "execution_count": 6,
   "metadata": {
    "collapsed": true
   },
   "outputs": [],
   "source": [
    "company_data = company_data[:5000]"
   ]
  },
  {
   "cell_type": "code",
   "execution_count": 7,
   "metadata": {
    "collapsed": true
   },
   "outputs": [],
   "source": [
    "#Fill empty entries & NaN to 0\n",
    "company_data = company_data.fillna(0)"
   ]
  },
  {
   "cell_type": "code",
   "execution_count": 8,
   "metadata": {},
   "outputs": [
    {
     "data": {
      "text/html": [
       "<div>\n",
       "<style>\n",
       "    .dataframe thead tr:only-child th {\n",
       "        text-align: right;\n",
       "    }\n",
       "\n",
       "    .dataframe thead th {\n",
       "        text-align: left;\n",
       "    }\n",
       "\n",
       "    .dataframe tbody tr th {\n",
       "        vertical-align: top;\n",
       "    }\n",
       "</style>\n",
       "<table border=\"1\" class=\"dataframe\">\n",
       "  <thead>\n",
       "    <tr style=\"text-align: right;\">\n",
       "      <th></th>\n",
       "      <th>ticker</th>\n",
       "      <th>datekey</th>\n",
       "      <th>de</th>\n",
       "      <th>pe1</th>\n",
       "      <th>ps1</th>\n",
       "      <th>pb</th>\n",
       "      <th>netmargin</th>\n",
       "      <th>marketcap</th>\n",
       "      <th>ev</th>\n",
       "      <th>evebitda</th>\n",
       "      <th>...</th>\n",
       "      <th>payoutratio</th>\n",
       "      <th>tangibles</th>\n",
       "      <th>tbvps</th>\n",
       "      <th>workingcapital</th>\n",
       "      <th>price</th>\n",
       "      <th>sp_price</th>\n",
       "      <th>price_change</th>\n",
       "      <th>sp_price_change</th>\n",
       "      <th>diff</th>\n",
       "      <th>status</th>\n",
       "    </tr>\n",
       "  </thead>\n",
       "  <tbody>\n",
       "    <tr>\n",
       "      <th>0</th>\n",
       "      <td>MMM</td>\n",
       "      <td>2008-05-02</td>\n",
       "      <td>1.153</td>\n",
       "      <td>15.048</td>\n",
       "      <td>2.221</td>\n",
       "      <td>4.449</td>\n",
       "      <td>0.153</td>\n",
       "      <td>5.532178e+10</td>\n",
       "      <td>5.877678e+10</td>\n",
       "      <td>8.701</td>\n",
       "      <td>...</td>\n",
       "      <td>0.357</td>\n",
       "      <td>2.121700e+10</td>\n",
       "      <td>30.031</td>\n",
       "      <td>4.625000e+09</td>\n",
       "      <td>78.55</td>\n",
       "      <td>1413.900024</td>\n",
       "      <td>0.000000</td>\n",
       "      <td>0.000000</td>\n",
       "      <td>0.000000</td>\n",
       "      <td>underperform</td>\n",
       "    </tr>\n",
       "    <tr>\n",
       "      <th>1</th>\n",
       "      <td>MMM</td>\n",
       "      <td>2008-08-01</td>\n",
       "      <td>1.183</td>\n",
       "      <td>13.261</td>\n",
       "      <td>1.925</td>\n",
       "      <td>3.912</td>\n",
       "      <td>0.140</td>\n",
       "      <td>4.903418e+10</td>\n",
       "      <td>5.349518e+10</td>\n",
       "      <td>7.867</td>\n",
       "      <td>...</td>\n",
       "      <td>0.370</td>\n",
       "      <td>2.059000e+10</td>\n",
       "      <td>29.326</td>\n",
       "      <td>3.552000e+09</td>\n",
       "      <td>70.15</td>\n",
       "      <td>1260.310059</td>\n",
       "      <td>-10.693826</td>\n",
       "      <td>-10.862859</td>\n",
       "      <td>0.169033</td>\n",
       "      <td>outperform</td>\n",
       "    </tr>\n",
       "    <tr>\n",
       "      <th>2</th>\n",
       "      <td>MMM</td>\n",
       "      <td>2008-10-31</td>\n",
       "      <td>1.263</td>\n",
       "      <td>11.952</td>\n",
       "      <td>1.722</td>\n",
       "      <td>3.652</td>\n",
       "      <td>0.151</td>\n",
       "      <td>4.455701e+10</td>\n",
       "      <td>4.935301e+10</td>\n",
       "      <td>7.146</td>\n",
       "      <td>...</td>\n",
       "      <td>0.350</td>\n",
       "      <td>2.077300e+10</td>\n",
       "      <td>29.868</td>\n",
       "      <td>3.780000e+09</td>\n",
       "      <td>64.30</td>\n",
       "      <td>968.750000</td>\n",
       "      <td>-18.141311</td>\n",
       "      <td>-31.483840</td>\n",
       "      <td>13.342529</td>\n",
       "      <td>outperform</td>\n",
       "    </tr>\n",
       "    <tr>\n",
       "      <th>3</th>\n",
       "      <td>MMM</td>\n",
       "      <td>2009-02-17</td>\n",
       "      <td>1.586</td>\n",
       "      <td>9.580</td>\n",
       "      <td>1.312</td>\n",
       "      <td>3.330</td>\n",
       "      <td>0.097</td>\n",
       "      <td>3.289960e+10</td>\n",
       "      <td>3.776860e+10</td>\n",
       "      <td>5.887</td>\n",
       "      <td>...</td>\n",
       "      <td>0.641</td>\n",
       "      <td>1.839600e+10</td>\n",
       "      <td>26.549</td>\n",
       "      <td>3.759000e+09</td>\n",
       "      <td>47.42</td>\n",
       "      <td>789.169983</td>\n",
       "      <td>-39.630808</td>\n",
       "      <td>-44.184881</td>\n",
       "      <td>4.554072</td>\n",
       "      <td>outperform</td>\n",
       "    </tr>\n",
       "    <tr>\n",
       "      <th>4</th>\n",
       "      <td>MMM</td>\n",
       "      <td>2009-05-01</td>\n",
       "      <td>1.458</td>\n",
       "      <td>13.429</td>\n",
       "      <td>1.680</td>\n",
       "      <td>4.128</td>\n",
       "      <td>0.102</td>\n",
       "      <td>4.019094e+10</td>\n",
       "      <td>4.459294e+10</td>\n",
       "      <td>7.812</td>\n",
       "      <td>...</td>\n",
       "      <td>0.680</td>\n",
       "      <td>1.740300e+10</td>\n",
       "      <td>25.094</td>\n",
       "      <td>3.919000e+09</td>\n",
       "      <td>57.88</td>\n",
       "      <td>877.520020</td>\n",
       "      <td>-26.314449</td>\n",
       "      <td>-37.936204</td>\n",
       "      <td>11.621755</td>\n",
       "      <td>outperform</td>\n",
       "    </tr>\n",
       "  </tbody>\n",
       "</table>\n",
       "<p>5 rows × 42 columns</p>\n",
       "</div>"
      ],
      "text/plain": [
       "  ticker     datekey     de     pe1    ps1     pb  netmargin     marketcap  \\\n",
       "0    MMM  2008-05-02  1.153  15.048  2.221  4.449      0.153  5.532178e+10   \n",
       "1    MMM  2008-08-01  1.183  13.261  1.925  3.912      0.140  4.903418e+10   \n",
       "2    MMM  2008-10-31  1.263  11.952  1.722  3.652      0.151  4.455701e+10   \n",
       "3    MMM  2009-02-17  1.586   9.580  1.312  3.330      0.097  3.289960e+10   \n",
       "4    MMM  2009-05-01  1.458  13.429  1.680  4.128      0.102  4.019094e+10   \n",
       "\n",
       "             ev  evebitda      ...       payoutratio     tangibles   tbvps  \\\n",
       "0  5.877678e+10     8.701      ...             0.357  2.121700e+10  30.031   \n",
       "1  5.349518e+10     7.867      ...             0.370  2.059000e+10  29.326   \n",
       "2  4.935301e+10     7.146      ...             0.350  2.077300e+10  29.868   \n",
       "3  3.776860e+10     5.887      ...             0.641  1.839600e+10  26.549   \n",
       "4  4.459294e+10     7.812      ...             0.680  1.740300e+10  25.094   \n",
       "\n",
       "   workingcapital  price     sp_price  price_change  sp_price_change  \\\n",
       "0    4.625000e+09  78.55  1413.900024      0.000000         0.000000   \n",
       "1    3.552000e+09  70.15  1260.310059    -10.693826       -10.862859   \n",
       "2    3.780000e+09  64.30   968.750000    -18.141311       -31.483840   \n",
       "3    3.759000e+09  47.42   789.169983    -39.630808       -44.184881   \n",
       "4    3.919000e+09  57.88   877.520020    -26.314449       -37.936204   \n",
       "\n",
       "        diff        status  \n",
       "0   0.000000  underperform  \n",
       "1   0.169033    outperform  \n",
       "2  13.342529    outperform  \n",
       "3   4.554072    outperform  \n",
       "4  11.621755    outperform  \n",
       "\n",
       "[5 rows x 42 columns]"
      ]
     },
     "execution_count": 8,
     "metadata": {},
     "output_type": "execute_result"
    }
   ],
   "source": [
    "company_data.head()"
   ]
  },
  {
   "cell_type": "markdown",
   "metadata": {},
   "source": [
    "### Use sklearn SVM classifier to predict stock performance based on company financials"
   ]
  },
  {
   "cell_type": "code",
   "execution_count": 9,
   "metadata": {
    "collapsed": true
   },
   "outputs": [],
   "source": [
    "# import sklearn dependencies\n",
    "import matplotlib.pyplot as plt\n",
    "from sklearn.neighbors import KNeighborsClassifier\n",
    "from sklearn import svm, preprocessing"
   ]
  },
  {
   "cell_type": "code",
   "execution_count": 10,
   "metadata": {
    "collapsed": true
   },
   "outputs": [],
   "source": [
    "#set status column as target\n",
    "target = (company_data[\"status\"]\n",
    "            .replace(\"underperform\", 0)\n",
    "            .replace(\"outperform\", 1))\n",
    "target_names = [\"underperform\", \"outperform\"]"
   ]
  },
  {
   "cell_type": "code",
   "execution_count": 11,
   "metadata": {},
   "outputs": [
    {
     "data": {
      "text/html": [
       "<div>\n",
       "<style>\n",
       "    .dataframe thead tr:only-child th {\n",
       "        text-align: right;\n",
       "    }\n",
       "\n",
       "    .dataframe thead th {\n",
       "        text-align: left;\n",
       "    }\n",
       "\n",
       "    .dataframe tbody tr th {\n",
       "        vertical-align: top;\n",
       "    }\n",
       "</style>\n",
       "<table border=\"1\" class=\"dataframe\">\n",
       "  <thead>\n",
       "    <tr style=\"text-align: right;\">\n",
       "      <th></th>\n",
       "      <th>de</th>\n",
       "      <th>pe1</th>\n",
       "      <th>ps1</th>\n",
       "      <th>pb</th>\n",
       "      <th>netmargin</th>\n",
       "      <th>marketcap</th>\n",
       "      <th>ev</th>\n",
       "      <th>evebitda</th>\n",
       "      <th>revenueusd</th>\n",
       "      <th>gp</th>\n",
       "      <th>...</th>\n",
       "      <th>ncfdebt</th>\n",
       "      <th>ncfcommon</th>\n",
       "      <th>ncfdiv</th>\n",
       "      <th>ncfx</th>\n",
       "      <th>ncf</th>\n",
       "      <th>sps</th>\n",
       "      <th>payoutratio</th>\n",
       "      <th>tangibles</th>\n",
       "      <th>tbvps</th>\n",
       "      <th>workingcapital</th>\n",
       "    </tr>\n",
       "  </thead>\n",
       "  <tbody>\n",
       "    <tr>\n",
       "      <th>0</th>\n",
       "      <td>1.153</td>\n",
       "      <td>15.048</td>\n",
       "      <td>2.221</td>\n",
       "      <td>4.449</td>\n",
       "      <td>0.153</td>\n",
       "      <td>5.532178e+10</td>\n",
       "      <td>5.877678e+10</td>\n",
       "      <td>8.701</td>\n",
       "      <td>6.463000e+09</td>\n",
       "      <td>3.127000e+09</td>\n",
       "      <td>...</td>\n",
       "      <td>1.122000e+09</td>\n",
       "      <td>-431000000.0</td>\n",
       "      <td>-353000000.0</td>\n",
       "      <td>-17000000.0</td>\n",
       "      <td>8.310000e+08</td>\n",
       "      <td>35.369</td>\n",
       "      <td>0.357</td>\n",
       "      <td>2.121700e+10</td>\n",
       "      <td>30.031</td>\n",
       "      <td>4.625000e+09</td>\n",
       "    </tr>\n",
       "    <tr>\n",
       "      <th>1</th>\n",
       "      <td>1.183</td>\n",
       "      <td>13.261</td>\n",
       "      <td>1.925</td>\n",
       "      <td>3.912</td>\n",
       "      <td>0.140</td>\n",
       "      <td>4.903418e+10</td>\n",
       "      <td>5.349518e+10</td>\n",
       "      <td>7.867</td>\n",
       "      <td>6.739000e+09</td>\n",
       "      <td>3.229000e+09</td>\n",
       "      <td>...</td>\n",
       "      <td>-8.090000e+08</td>\n",
       "      <td>-434000000.0</td>\n",
       "      <td>-351000000.0</td>\n",
       "      <td>12000000.0</td>\n",
       "      <td>-1.180000e+09</td>\n",
       "      <td>36.441</td>\n",
       "      <td>0.370</td>\n",
       "      <td>2.059000e+10</td>\n",
       "      <td>29.326</td>\n",
       "      <td>3.552000e+09</td>\n",
       "    </tr>\n",
       "    <tr>\n",
       "      <th>2</th>\n",
       "      <td>1.263</td>\n",
       "      <td>11.952</td>\n",
       "      <td>1.722</td>\n",
       "      <td>3.652</td>\n",
       "      <td>0.151</td>\n",
       "      <td>4.455701e+10</td>\n",
       "      <td>4.935301e+10</td>\n",
       "      <td>7.146</td>\n",
       "      <td>6.558000e+09</td>\n",
       "      <td>3.126000e+09</td>\n",
       "      <td>...</td>\n",
       "      <td>1.181000e+09</td>\n",
       "      <td>-475000000.0</td>\n",
       "      <td>-348000000.0</td>\n",
       "      <td>-147000000.0</td>\n",
       "      <td>6.930000e+08</td>\n",
       "      <td>37.334</td>\n",
       "      <td>0.350</td>\n",
       "      <td>2.077300e+10</td>\n",
       "      <td>29.868</td>\n",
       "      <td>3.780000e+09</td>\n",
       "    </tr>\n",
       "    <tr>\n",
       "      <th>3</th>\n",
       "      <td>1.586</td>\n",
       "      <td>9.580</td>\n",
       "      <td>1.312</td>\n",
       "      <td>3.330</td>\n",
       "      <td>0.097</td>\n",
       "      <td>3.289960e+10</td>\n",
       "      <td>3.776860e+10</td>\n",
       "      <td>5.887</td>\n",
       "      <td>5.509000e+09</td>\n",
       "      <td>2.408000e+09</td>\n",
       "      <td>...</td>\n",
       "      <td>-4.570000e+08</td>\n",
       "      <td>-2000000.0</td>\n",
       "      <td>-346000000.0</td>\n",
       "      <td>-263000000.0</td>\n",
       "      <td>-3.910000e+08</td>\n",
       "      <td>36.140</td>\n",
       "      <td>0.641</td>\n",
       "      <td>1.839600e+10</td>\n",
       "      <td>26.549</td>\n",
       "      <td>3.759000e+09</td>\n",
       "    </tr>\n",
       "    <tr>\n",
       "      <th>4</th>\n",
       "      <td>1.458</td>\n",
       "      <td>13.429</td>\n",
       "      <td>1.680</td>\n",
       "      <td>4.128</td>\n",
       "      <td>0.102</td>\n",
       "      <td>4.019094e+10</td>\n",
       "      <td>4.459294e+10</td>\n",
       "      <td>7.812</td>\n",
       "      <td>5.089000e+09</td>\n",
       "      <td>2.317000e+09</td>\n",
       "      <td>...</td>\n",
       "      <td>-5.980000e+08</td>\n",
       "      <td>34000000.0</td>\n",
       "      <td>-354000000.0</td>\n",
       "      <td>13000000.0</td>\n",
       "      <td>-2.170000e+08</td>\n",
       "      <td>34.456</td>\n",
       "      <td>0.680</td>\n",
       "      <td>1.740300e+10</td>\n",
       "      <td>25.094</td>\n",
       "      <td>3.919000e+09</td>\n",
       "    </tr>\n",
       "  </tbody>\n",
       "</table>\n",
       "<p>5 rows × 34 columns</p>\n",
       "</div>"
      ],
      "text/plain": [
       "      de     pe1    ps1     pb  netmargin     marketcap            ev  \\\n",
       "0  1.153  15.048  2.221  4.449      0.153  5.532178e+10  5.877678e+10   \n",
       "1  1.183  13.261  1.925  3.912      0.140  4.903418e+10  5.349518e+10   \n",
       "2  1.263  11.952  1.722  3.652      0.151  4.455701e+10  4.935301e+10   \n",
       "3  1.586   9.580  1.312  3.330      0.097  3.289960e+10  3.776860e+10   \n",
       "4  1.458  13.429  1.680  4.128      0.102  4.019094e+10  4.459294e+10   \n",
       "\n",
       "   evebitda    revenueusd            gp       ...             ncfdebt  \\\n",
       "0     8.701  6.463000e+09  3.127000e+09       ...        1.122000e+09   \n",
       "1     7.867  6.739000e+09  3.229000e+09       ...       -8.090000e+08   \n",
       "2     7.146  6.558000e+09  3.126000e+09       ...        1.181000e+09   \n",
       "3     5.887  5.509000e+09  2.408000e+09       ...       -4.570000e+08   \n",
       "4     7.812  5.089000e+09  2.317000e+09       ...       -5.980000e+08   \n",
       "\n",
       "     ncfcommon       ncfdiv         ncfx           ncf     sps  payoutratio  \\\n",
       "0 -431000000.0 -353000000.0  -17000000.0  8.310000e+08  35.369        0.357   \n",
       "1 -434000000.0 -351000000.0   12000000.0 -1.180000e+09  36.441        0.370   \n",
       "2 -475000000.0 -348000000.0 -147000000.0  6.930000e+08  37.334        0.350   \n",
       "3   -2000000.0 -346000000.0 -263000000.0 -3.910000e+08  36.140        0.641   \n",
       "4   34000000.0 -354000000.0   13000000.0 -2.170000e+08  34.456        0.680   \n",
       "\n",
       "      tangibles   tbvps  workingcapital  \n",
       "0  2.121700e+10  30.031    4.625000e+09  \n",
       "1  2.059000e+10  29.326    3.552000e+09  \n",
       "2  2.077300e+10  29.868    3.780000e+09  \n",
       "3  1.839600e+10  26.549    3.759000e+09  \n",
       "4  1.740300e+10  25.094    3.919000e+09  \n",
       "\n",
       "[5 rows x 34 columns]"
      ]
     },
     "execution_count": 11,
     "metadata": {},
     "output_type": "execute_result"
    }
   ],
   "source": [
    "#Remove columns that are not company financials. This will be the features on which the model will be trained\n",
    "data = (company_data.drop(\"price\", axis=1)\n",
    "            .drop(\"sp_price\", axis=1)\n",
    "            .drop(\"price_change\", axis=1)\n",
    "            .drop(\"sp_price_change\", axis=1)\n",
    "            .drop(\"diff\", axis=1)\n",
    "            .drop(\"status\", axis=1)\n",
    "            .drop(\"ticker\", axis=1)\n",
    "            .drop(\"datekey\", axis=1))\n",
    "feature_names = data.columns\n",
    "data.head()"
   ]
  },
  {
   "cell_type": "code",
   "execution_count": 12,
   "metadata": {
    "scrolled": true
   },
   "outputs": [
    {
     "name": "stderr",
     "output_type": "stream",
     "text": [
      "/Users/Bopanna/anaconda3/envs/py36/lib/python3.6/site-packages/sklearn/preprocessing/data.py:164: UserWarning: Numerical issues were encountered when centering the data and might not be solved. Dataset may contain too large values. You may need to prescale your features.\n",
      "  warnings.warn(\"Numerical issues were encountered \"\n"
     ]
    }
   ],
   "source": [
    "# There are some columns with value in billions. This has to be scaled inorder for the model to complete training\n",
    "# Ignore the warning.\n",
    "data = preprocessing.scale(data)"
   ]
  },
  {
   "cell_type": "code",
   "execution_count": 13,
   "metadata": {
    "collapsed": true
   },
   "outputs": [],
   "source": [
    "# Randomly split the data into training & testing data\n",
    "from sklearn.model_selection import train_test_split\n",
    "X_train, X_test, y_train, y_test = train_test_split(data, target, random_state=42)"
   ]
  },
  {
   "cell_type": "code",
   "execution_count": 14,
   "metadata": {
    "collapsed": true
   },
   "outputs": [],
   "source": [
    "from sklearn.ensemble import RandomForestClassifier\n",
    "# Create a random forest classifier\n",
    "rf = RandomForestClassifier(n_estimators=200)"
   ]
  },
  {
   "cell_type": "code",
   "execution_count": 15,
   "metadata": {
    "collapsed": true
   },
   "outputs": [],
   "source": [
    "# Create the GridSearch estimator along with a parameter object containing the values to adjust\n",
    "from sklearn.model_selection import GridSearchCV\n",
    "param_grid = { \n",
    "    'n_estimators': [200, 500, 700, 1000],\n",
    "    'max_features': ['auto', 'sqrt', 'log2']\n",
    "}\n",
    "\n",
    "CV_rfc = GridSearchCV(estimator=rf, param_grid=param_grid, cv= 5)"
   ]
  },
  {
   "cell_type": "code",
   "execution_count": 16,
   "metadata": {},
   "outputs": [
    {
     "data": {
      "text/plain": [
       "GridSearchCV(cv=5, error_score='raise',\n",
       "       estimator=RandomForestClassifier(bootstrap=True, class_weight=None, criterion='gini',\n",
       "            max_depth=None, max_features='auto', max_leaf_nodes=None,\n",
       "            min_impurity_decrease=0.0, min_impurity_split=None,\n",
       "            min_samples_leaf=1, min_samples_split=2,\n",
       "            min_weight_fraction_leaf=0.0, n_estimators=200, n_jobs=1,\n",
       "            oob_score=False, random_state=None, verbose=0,\n",
       "            warm_start=False),\n",
       "       fit_params=None, iid=True, n_jobs=1,\n",
       "       param_grid={'n_estimators': [200, 500, 700, 1000], 'max_features': ['auto', 'sqrt', 'log2']},\n",
       "       pre_dispatch='2*n_jobs', refit=True, return_train_score=True,\n",
       "       scoring=None, verbose=0)"
      ]
     },
     "execution_count": 16,
     "metadata": {},
     "output_type": "execute_result"
    }
   ],
   "source": [
    "CV_rfc.fit(X_train, y_train)"
   ]
  },
  {
   "cell_type": "code",
   "execution_count": 18,
   "metadata": {},
   "outputs": [
    {
     "name": "stdout",
     "output_type": "stream",
     "text": [
      "{'max_features': 'sqrt', 'n_estimators': 700}\n"
     ]
    }
   ],
   "source": [
    "print(CV_rfc.best_params_)"
   ]
  },
  {
   "cell_type": "code",
   "execution_count": null,
   "metadata": {
    "collapsed": true
   },
   "outputs": [],
   "source": [
    "# Model Accuracy\n",
    "print('Test Acc: %.3f' % rf.score(X_train, y_train))"
   ]
  },
  {
   "cell_type": "code",
   "execution_count": null,
   "metadata": {
    "collapsed": true
   },
   "outputs": [],
   "source": [
    "# Model Accuracy\n",
    "print('Test Acc: %.3f' % rf.score(X_test, y_test))"
   ]
  },
  {
   "cell_type": "code",
   "execution_count": null,
   "metadata": {
    "collapsed": true
   },
   "outputs": [],
   "source": [
    "# Random Forests in sklearn will automatically calculate feature importance\n",
    "importances = rf.feature_importances_\n",
    "importances"
   ]
  },
  {
   "cell_type": "code",
   "execution_count": null,
   "metadata": {
    "collapsed": true
   },
   "outputs": [],
   "source": [
    "sorted(zip(rf.feature_importances_, feature_names), reverse=True)"
   ]
  },
  {
   "cell_type": "code",
   "execution_count": null,
   "metadata": {
    "collapsed": true
   },
   "outputs": [],
   "source": []
  }
 ],
 "metadata": {
  "anaconda-cloud": {},
  "kernel_info": {
   "name": "python3"
  },
  "kernelspec": {
   "display_name": "Python 3",
   "language": "python",
   "name": "python3"
  },
  "language_info": {
   "codemirror_mode": {
    "name": "ipython",
    "version": 3
   },
   "file_extension": ".py",
   "mimetype": "text/x-python",
   "name": "python",
   "nbconvert_exporter": "python",
   "pygments_lexer": "ipython3",
   "version": "3.6.2"
  },
  "nteract": {
   "version": "0.2.0"
  },
  "varInspector": {
   "cols": {
    "lenName": 16,
    "lenType": 16,
    "lenVar": 40
   },
   "kernels_config": {
    "python": {
     "delete_cmd_postfix": "",
     "delete_cmd_prefix": "del ",
     "library": "var_list.py",
     "varRefreshCmd": "print(var_dic_list())"
    },
    "r": {
     "delete_cmd_postfix": ") ",
     "delete_cmd_prefix": "rm(",
     "library": "var_list.r",
     "varRefreshCmd": "cat(var_dic_list()) "
    }
   },
   "types_to_exclude": [
    "module",
    "function",
    "builtin_function_or_method",
    "instance",
    "_Feature"
   ],
   "window_display": false
  }
 },
 "nbformat": 4,
 "nbformat_minor": 2
}
